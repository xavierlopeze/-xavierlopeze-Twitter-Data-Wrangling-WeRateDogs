{
 "cells": [
  {
   "cell_type": "markdown",
   "metadata": {},
   "source": [
    "# Wrangle report for tweet archive of Twitter user @dog_rates data"
   ]
  },
  {
   "cell_type": "markdown",
   "metadata": {},
   "source": [
    "Author: Xavier López<br>\n",
    "Date: December 2020<br>\n",
    "Objective: Document the data wrangling process including gathering, assessing, and cleaning data"
   ]
  },
  {
   "cell_type": "markdown",
   "metadata": {},
   "source": [
    "## Table of contents\n",
    "* [1. Enviornment and tools](#chapter1)\n",
    "* [2. Data Gathering](#chapter2)\n",
    "* [3. Data Assessing and Cleaning](#chapter3)"
   ]
  },
  {
   "cell_type": "markdown",
   "metadata": {},
   "source": [
    "## 1. Environment and Tools <a class=\"anchor\" id=\"chapter1\"></a>\n",
    "The data wrangling process is peformed in the Jupyter Notebook with Python 3.7.6 The libraries used in this project are pandas, numpy,  tweepy, json, sys, datetime, calendar,matplotlib and altair. %matplotlib inline is added for direct outputs in the notebook. pd.options.display.max_colwidth = 2500 is set to fully read texts."
   ]
  },
  {
   "cell_type": "markdown",
   "metadata": {},
   "source": [
    "## 2. Data Gathering  <a class=\"anchor\" id=\"chapter2\"></a>\n",
    "\n",
    "We use three different data sources for this project:\n",
    "\n",
    "1. **Enhanced Twitter Archive**: Twitter Archive downloaded from WeRateDogs and pre-processed by Udacity, it is the core of our data.\n",
    "\n",
    "    File name: twitter-archive-enhanced<br>\n",
    "    Format: csv<br>\n",
    "    Source: directly download from Udacity website.<br>\n",
    "<br>\n",
    "\n",
    "2. **Twitter API Data**: mainly used to obtain *retweets_count* and *favorites_count* to complement data from the *Enhanced Twitter Archive*.\n",
    "\n",
    "    File name: tweet_json<br>\n",
    "    Format: txt<br>\n",
    "    Source: We have connected to the Twitter API to create the text file.<br>\n",
    "<br>    \n",
    "    \n",
    "3. **Image Predictions File**: Predicted *dog_breed* category, the output from a neural network.<br>\n",
    "\n",
    "    File name: image-predictions<br>\n",
    "    Format: tsv<br>\n",
    "    Source: get the data from url = 'https://d17h27t6h515a5.cloudfront.net/topher/2017/August/599fd2ad_image-predictions/image-predictions.tsv'<br>"
   ]
  },
  {
   "cell_type": "markdown",
   "metadata": {},
   "source": [
    "## 3. Data Assessing and Cleaning  <a class=\"anchor\" id=\"chapter3\"></a>"
   ]
  },
  {
   "cell_type": "markdown",
   "metadata": {},
   "source": [
    "### Data Quality Issues Solved\n",
    "\n",
    "1. Dropped redudnand information for each datasource.\n",
    "\n",
    "- The rating of a tweet is encoded in two columns, for simplification we will generate a single column tweet ranking to easily compare.\n",
    "\n",
    "- The *expanded_urls* column is giving more than one vlaue for tweets with more than one image, and those values are repeated separated by columns. \n",
    "    I will take a simplified approach where we will get a single url for each tweet (the first element of the list or first photo).\n",
    "    \n",
    "- The timestamp column contains very valuable information, however it can be hard to consume. We wold like to get:\n",
    "    - The day of the week\n",
    "    - The hour (only the hour, not min, not second, in a single column)\n",
    "    - The year\n",
    "    - The month/year (calmonth)\n",
    "    - The day/month/year (calday)\n",
    "<br>\n",
    "<br>\n",
    "- Some dog_stages contain more than one dog stage, the text of the tween has been read and analyzed for each case, some are miss-labeled and deserve only one dog_stage, those cases have been corrected, other are correctly assigned to more than one dog_stage and the multiple label has been kept.\n",
    "\n",
    "- Some dog names are not actually real names, we will replace those values for *Unknown*.\n",
    "\n",
    "- If a predicted Dog_breed is a class that is not a dog, it is labeled as *Unknown*.\n",
    "\n",
    "- Column *source* has been simplified form big urls to easy to read categories."
   ]
  },
  {
   "cell_type": "markdown",
   "metadata": {},
   "source": [
    "### Data Tidiness Issues Solved"
   ]
  },
  {
   "cell_type": "markdown",
   "metadata": {},
   "source": [
    "1. All the *dog stages* (doggo, floofer, pupper, puppo) should be transposed into one column, dog_stage.\n",
    "- The predicted *dog_breed* information is stored across multiple columns, the most confident dog breed conclusion should be stored in a single column."
   ]
  }
 ],
 "metadata": {
  "kernelspec": {
   "display_name": "Python 3",
   "language": "python",
   "name": "python3"
  },
  "language_info": {
   "codemirror_mode": {
    "name": "ipython",
    "version": 3
   },
   "file_extension": ".py",
   "mimetype": "text/x-python",
   "name": "python",
   "nbconvert_exporter": "python",
   "pygments_lexer": "ipython3",
   "version": "3.7.6"
  }
 },
 "nbformat": 4,
 "nbformat_minor": 4
}
